{
 "cells": [
  {
   "cell_type": "markdown",
   "id": "7864a5f1",
   "metadata": {},
   "source": [
    "## Resume Parser "
   ]
  },
  {
   "cell_type": "markdown",
   "id": "8392ae44",
   "metadata": {},
   "source": [
    "### Data Gathering and Processing\n",
    "\n",
    "To create a diverse and representative dataset for this project, I gathered a small set of **7 synthetic resumes** in both PDF and Word formats. This approach ensures the solution is not overfitted to any specific resume style and can handle variations in document structure. This small sample will also be used for evaluating the project's performance.\n",
    "\n",
    "The resume samples were sourced from the following platforms:\n",
    "\n",
    "* **Indeed Resume Builder** ([www.resume.com](https://www.resume.com)): I created and downloaded **3 resumes in PDF format** using this free tool. The profile information (names, emails, and skills) was generated using an AI tool to ensure the data was fictitious and unique to this project.\n",
    "* **Microsoft 365 Resume Templates** ([create.microsoft.com/en-us/templates/resumes](https://create.microsoft.com/en-us/templates/resumes)): To obtain samples in the **Word (.docx) format**, I utilized the free resume template bank provided by Microsoft. I created and downloaded **4 resumes in .docx format**. These templates cover a range of professional layouts and designs, which helps in testing the robustness of the parsing algorithm across different document structures.\n",
    "\n",
    "By using these methods, I was able to create a small but effective dataset to develop and evaluate the resume parser."
   ]
  },
  {
   "cell_type": "markdown",
   "id": "9ce99721",
   "metadata": {},
   "source": []
  }
 ],
 "metadata": {
  "language_info": {
   "name": "python"
  }
 },
 "nbformat": 4,
 "nbformat_minor": 5
}
